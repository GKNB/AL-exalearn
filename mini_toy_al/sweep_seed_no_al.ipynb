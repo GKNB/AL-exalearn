{
 "cells": [
  {
   "cell_type": "code",
   "execution_count": 1,
   "id": "96340ed6-9be5-483b-b6ed-1941435f1a6a",
   "metadata": {},
   "outputs": [],
   "source": [
    "import numpy as np\n",
    "import torch\n",
    "import matplotlib.pyplot as plt\n",
    "import random"
   ]
  },
  {
   "cell_type": "code",
   "execution_count": 2,
   "id": "7e1117c7-2138-49c7-96ec-4e4309d437a3",
   "metadata": {},
   "outputs": [],
   "source": [
    "class FullModel(torch.nn.Module):\n",
    "    def __init__(self):\n",
    "        super(FullModel, self).__init__()\n",
    "        self.fc1 = torch.nn.Linear(1, 5)\n",
    "        self.fc2 = torch.nn.Linear(5, 5)\n",
    "        self.fc3 = torch.nn.Linear(5, 1)\n",
    "        self.relu = torch.nn.ReLU()\n",
    "        \n",
    "    def forward(self, x):\n",
    "        x = self.fc1(x)\n",
    "        x = self.relu(x)\n",
    "        x = self.fc2(x)\n",
    "        x = self.relu(x)\n",
    "        x = self.fc3(x)\n",
    "        return x"
   ]
  },
  {
   "cell_type": "code",
   "execution_count": 3,
   "id": "a2666453-1d3c-46bc-bea2-be830f291354",
   "metadata": {},
   "outputs": [],
   "source": [
    "def func(x):\n",
    "    return np.power(x, 1) * np.power(np.sin(1.0 / 3.0 * x), 2)\n",
    "\n",
    "def avg_l2_diff(y1, y2):\n",
    "    return np.average(np.power(y1-y2, 2))"
   ]
  },
  {
   "cell_type": "code",
   "execution_count": 4,
   "id": "a4f0084d-40e4-4890-bba3-108b7510eed7",
   "metadata": {},
   "outputs": [],
   "source": [
    "def train(model, optimizer, criterion, epoch):\n",
    "    model.train()\n",
    "    \n",
    "    running_loss  = torch.tensor(0.0)\n",
    "\n",
    "    for batch_idx, current_batch in enumerate(train_loader):     \n",
    "        inp, current_batch_y = current_batch[0],        current_batch[1]\n",
    "\n",
    "        optimizer.zero_grad()\n",
    "        output = model(inp)\n",
    "        gndtruth = current_batch_y\n",
    "\n",
    "        loss = criterion(output, gndtruth)\n",
    "        loss.backward()\n",
    "        optimizer.step()\n",
    "        running_loss  += loss.item()\n",
    "\n",
    "    running_loss  = running_loss  / len(train_loader)\n",
    "    \n",
    "    if epoch % 50 == 0:\n",
    "        print(\"Epoch: {}, Average loss: {:15.8f}\".format(epoch, running_loss))"
   ]
  },
  {
   "cell_type": "code",
   "execution_count": 5,
   "id": "6882dca7-bbe2-4894-8d04-175e5b87f3e6",
   "metadata": {
    "tags": []
   },
   "outputs": [
    {
     "name": "stdout",
     "output_type": "stream",
     "text": [
      "Epoch: 50, Average loss:      0.07526521\n",
      "Epoch: 100, Average loss:      0.05593012\n",
      "Epoch: 150, Average loss:      0.03763933\n",
      "Epoch: 200, Average loss:      0.02691914\n",
      "Epoch: 250, Average loss:      0.02141721\n",
      "Epoch: 300, Average loss:      0.01504277\n",
      "Epoch: 350, Average loss:      0.01090206\n",
      "Epoch: 400, Average loss:      0.00895169\n",
      "Epoch: 450, Average loss:      0.00676315\n",
      "Epoch: 500, Average loss:      0.00547076\n",
      "Epoch: 550, Average loss:      0.00443839\n",
      "Epoch: 600, Average loss:      0.00425628\n",
      "Epoch: 650, Average loss:      0.00449957\n",
      "Epoch: 700, Average loss:      0.00367146\n",
      "Epoch: 750, Average loss:      0.00391440\n",
      "Epoch: 800, Average loss:      0.00336614\n",
      "Epoch: 850, Average loss:      0.00394943\n",
      "Epoch: 900, Average loss:      0.00340245\n",
      "Epoch: 950, Average loss:      0.00382954\n",
      "Epoch: 1000, Average loss:      0.00383634\n",
      "Epoch: 1050, Average loss:      0.00382960\n",
      "Epoch: 1100, Average loss:      0.00404081\n",
      "Epoch: 1150, Average loss:      0.00366357\n",
      "Epoch: 1200, Average loss:      0.00365748\n",
      "Epoch: 1250, Average loss:      0.00379049\n",
      "Epoch: 1300, Average loss:      0.00363819\n",
      "Epoch: 1350, Average loss:      0.00378435\n",
      "Epoch: 1400, Average loss:      0.00381466\n",
      "Epoch: 1450, Average loss:      0.00377820\n",
      "Epoch: 1500, Average loss:      0.00377815\n",
      "Epoch: 1550, Average loss:      0.00347403\n",
      "Epoch: 1600, Average loss:      0.00372535\n",
      "Epoch: 1650, Average loss:      0.00357554\n",
      "Epoch: 1700, Average loss:      0.00399911\n",
      "Epoch: 1750, Average loss:      0.00359898\n",
      "Epoch: 1800, Average loss:      0.00367885\n",
      "Epoch: 1850, Average loss:      0.00371904\n",
      "Epoch: 1900, Average loss:      0.00372159\n",
      "Epoch: 1950, Average loss:      0.00373069\n",
      "Epoch: 2000, Average loss:      0.00394882\n",
      "Epoch: 2050, Average loss:      0.00383690\n",
      "Epoch: 2100, Average loss:      0.00356385\n",
      "Epoch: 2150, Average loss:      0.00344058\n",
      "Epoch: 2200, Average loss:      0.00381776\n",
      "Epoch: 2250, Average loss:      0.00358691\n",
      "Epoch: 2300, Average loss:      0.00390813\n",
      "Epoch: 2350, Average loss:      0.00337873\n",
      "Epoch: 2400, Average loss:      0.00356820\n",
      "Epoch: 2450, Average loss:      0.00361410\n",
      "Epoch: 2500, Average loss:      0.00329931\n",
      "Epoch: 2550, Average loss:      0.00368619\n",
      "Epoch: 2600, Average loss:      0.00368376\n",
      "Epoch: 2650, Average loss:      0.00355833\n",
      "Epoch: 2700, Average loss:      0.00374378\n",
      "Epoch: 2750, Average loss:      0.00374880\n",
      "Epoch: 2800, Average loss:      0.00349635\n",
      "Epoch: 2850, Average loss:      0.00350207\n",
      "Epoch: 2900, Average loss:      0.00365248\n",
      "Epoch: 2950, Average loss:      0.00334757\n"
     ]
    }
   ],
   "source": [
    "l2_diff_tot = []\n",
    "for seed in np.arange(1):\n",
    "    torch.manual_seed(seed)\n",
    "    random.seed(seed)\n",
    "    np.random.seed(seed)\n",
    "    torch.use_deterministic_algorithms(True)\n",
    "    \n",
    "    model = FullModel()\n",
    "    #x_train = np.arange(-2.4, 3.2, 0.8)\n",
    "    x_train = np.arange(-2.4, 2.8, 0.4)\n",
    "    #x_train = np.arange(-2.4, 2.6, 0.2)\n",
    "    #x_train = np.arange(-2.4, 2.5, 0.1)\n",
    "    #x_train = np.arange(-2.4, 2.45, 0.05)\n",
    "\n",
    "    y_train = func(x_train)\n",
    "    x_train_torch = torch.from_numpy(x_train).float()\n",
    "    y_train_torch = torch.from_numpy(y_train).float()\n",
    "    train_dataset = torch.utils.data.TensorDataset(x_train_torch, y_train_torch)\n",
    "    train_loader = torch.utils.data.DataLoader(\n",
    "        train_dataset, shuffle=True)\n",
    "    optimizer = torch.optim.SGD(model.parameters(), lr=0.01, weight_decay=0.005)\n",
    "    criterion = torch.nn.MSELoss()\n",
    "    \n",
    "    for epoch in range(1, 3000):\n",
    "        train(model, optimizer, criterion, epoch)\n",
    "        \n",
    "    x_pred_np = np.arange(-2.5, 2.5, 0.0001).reshape(-1, 1)\n",
    "    x_pred = torch.from_numpy(x_pred_np).float()\n",
    "    y_true = func(x_pred_np)\n",
    "    y_pred = model(x_pred)\n",
    "    x_np = x_pred.numpy().reshape(-1)\n",
    "    y_pred_np = y_pred.detach().numpy().reshape(-1)\n",
    "    y_true_np = y_true.reshape(-1)\n",
    "    l2_diff = avg_l2_diff(y_pred_np, y_true_np).astype(float)\n",
    "    l2_diff_tot.append(l2_diff)"
   ]
  },
  {
   "cell_type": "code",
   "execution_count": 6,
   "id": "2165a5b6-e98e-4234-a5b0-d08728fb90e9",
   "metadata": {},
   "outputs": [
    {
     "name": "stdout",
     "output_type": "stream",
     "text": [
      "[0.0029204877979537936]\n"
     ]
    }
   ],
   "source": [
    "print(l2_diff_tot)"
   ]
  }
 ],
 "metadata": {
  "kernelspec": {
   "display_name": "base_jupyter",
   "language": "python",
   "name": "base_jupyter"
  },
  "language_info": {
   "codemirror_mode": {
    "name": "ipython",
    "version": 3
   },
   "file_extension": ".py",
   "mimetype": "text/x-python",
   "name": "python",
   "nbconvert_exporter": "python",
   "pygments_lexer": "ipython3",
   "version": "3.8.13"
  }
 },
 "nbformat": 4,
 "nbformat_minor": 5
}
